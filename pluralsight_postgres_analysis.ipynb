{
 "cells": [
  {
   "cell_type": "code",
   "execution_count": null,
   "metadata": {},
   "outputs": [],
   "source": [
    "import pandas as pd\n",
    "import psycopg2\n",
    "import sqlalchemy\n",
    "import matplotlib as plt\n",
    "from sqlalchemy import create_engine"
   ]
  },
  {
   "cell_type": "code",
   "execution_count": null,
   "metadata": {},
   "outputs": [],
   "source": [
    "# Postgres username, password, and database name\n",
    "POSTGRES_ADDRESS = '127.0.0'\n",
    "POSTGRES_PORT = '5439'\n",
    "POSTGRES_NAME = 'user'\n",
    "POSTGRES_PASSWORD = 'hunter3'\n",
    "\n",
    "# A long string that contains the necessary Postgres login information\n",
    "postgres_conect = ('postgresql://{username}:{password}@{ipaddress}:{port}/{dbname}'\n",
    "  .format(username=POSTGRES_NAME,\n",
    "   password=POSTGRES_PASSWORD,\n",
    "   ipaddress=POSTGRES_ADDRESS,\n",
    "   port=POSTGRES_PORT,\n",
    "   dbname=POSTGRES_DBNAME))\n",
    "\n",
    "# Create the connection\n",
    "\n",
    "cnx = create_engine(postgres_str)"
   ]
  },
  {
   "cell_type": "code",
   "execution_count": null,
   "metadata": {},
   "outputs": [],
   "source": []
  }
 ],
 "metadata": {
  "kernelspec": {
   "display_name": "Python 3",
   "language": "python",
   "name": "python3"
  },
  "language_info": {
   "codemirror_mode": {
    "name": "ipython",
    "version": 3
   },
   "file_extension": ".py",
   "mimetype": "text/x-python",
   "name": "python",
   "nbconvert_exporter": "python",
   "pygments_lexer": "ipython3",
   "version": "3.7.6"
  }
 },
 "nbformat": 4,
 "nbformat_minor": 4
}
